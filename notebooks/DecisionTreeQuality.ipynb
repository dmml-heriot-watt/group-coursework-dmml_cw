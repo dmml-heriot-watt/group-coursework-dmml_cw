{
 "cells": [
  {
   "cell_type": "code",
   "execution_count": 1,
   "id": "96bc8324",
   "metadata": {},
   "outputs": [
    {
     "name": "stderr",
     "output_type": "stream",
     "text": [
      "/Users/augustinlobjoie/opt/anaconda3/lib/python3.9/site-packages/scipy/__init__.py:146: UserWarning: A NumPy version >=1.16.5 and <1.23.0 is required for this version of SciPy (detected version 1.26.2\n",
      "  warnings.warn(f\"A NumPy version >={np_minversion} and <{np_maxversion}\"\n"
     ]
    }
   ],
   "source": [
    "import numpy as np\n",
    "import matplotlib.pyplot as plt\n",
    "import pandas as pd\n",
    "from sklearn.datasets import load_iris\n",
    "from sklearn.model_selection import train_test_split\n",
    "from sklearn.tree import DecisionTreeClassifier\n",
    "from sklearn.metrics import accuracy_score"
   ]
  },
  {
   "cell_type": "markdown",
   "id": "fd7b09af",
   "metadata": {},
   "source": [
    "# Decision trees for classification\n",
    "The aim is to predict wine quality"
   ]
  },
  {
   "cell_type": "code",
   "execution_count": 2,
   "id": "4cc93d7b",
   "metadata": {},
   "outputs": [
    {
     "data": {
      "text/html": [
       "<div>\n",
       "<style scoped>\n",
       "    .dataframe tbody tr th:only-of-type {\n",
       "        vertical-align: middle;\n",
       "    }\n",
       "\n",
       "    .dataframe tbody tr th {\n",
       "        vertical-align: top;\n",
       "    }\n",
       "\n",
       "    .dataframe thead th {\n",
       "        text-align: right;\n",
       "    }\n",
       "</style>\n",
       "<table border=\"1\" class=\"dataframe\">\n",
       "  <thead>\n",
       "    <tr style=\"text-align: right;\">\n",
       "      <th></th>\n",
       "      <th>fixed acidity</th>\n",
       "      <th>volatile acidity</th>\n",
       "      <th>citric acid</th>\n",
       "      <th>residual sugar</th>\n",
       "      <th>chlorides</th>\n",
       "      <th>free sulfur dioxide</th>\n",
       "      <th>total sulfur dioxide</th>\n",
       "      <th>density</th>\n",
       "      <th>pH</th>\n",
       "      <th>sulphates</th>\n",
       "      <th>alcohol</th>\n",
       "      <th>quality</th>\n",
       "      <th>wine_name</th>\n",
       "    </tr>\n",
       "  </thead>\n",
       "  <tbody>\n",
       "    <tr>\n",
       "      <th>0</th>\n",
       "      <td>7.4</td>\n",
       "      <td>0.70</td>\n",
       "      <td>0.00</td>\n",
       "      <td>1.9</td>\n",
       "      <td>0.076</td>\n",
       "      <td>11.0</td>\n",
       "      <td>34.0</td>\n",
       "      <td>0.9978</td>\n",
       "      <td>3.51</td>\n",
       "      <td>0.56</td>\n",
       "      <td>9.4</td>\n",
       "      <td>5</td>\n",
       "      <td>red</td>\n",
       "    </tr>\n",
       "    <tr>\n",
       "      <th>1</th>\n",
       "      <td>7.8</td>\n",
       "      <td>0.88</td>\n",
       "      <td>0.00</td>\n",
       "      <td>2.6</td>\n",
       "      <td>0.098</td>\n",
       "      <td>25.0</td>\n",
       "      <td>67.0</td>\n",
       "      <td>0.9968</td>\n",
       "      <td>3.20</td>\n",
       "      <td>0.68</td>\n",
       "      <td>9.8</td>\n",
       "      <td>5</td>\n",
       "      <td>red</td>\n",
       "    </tr>\n",
       "    <tr>\n",
       "      <th>2</th>\n",
       "      <td>7.8</td>\n",
       "      <td>0.76</td>\n",
       "      <td>0.04</td>\n",
       "      <td>2.3</td>\n",
       "      <td>0.092</td>\n",
       "      <td>15.0</td>\n",
       "      <td>54.0</td>\n",
       "      <td>0.9970</td>\n",
       "      <td>3.26</td>\n",
       "      <td>0.65</td>\n",
       "      <td>9.8</td>\n",
       "      <td>5</td>\n",
       "      <td>red</td>\n",
       "    </tr>\n",
       "    <tr>\n",
       "      <th>3</th>\n",
       "      <td>11.2</td>\n",
       "      <td>0.28</td>\n",
       "      <td>0.56</td>\n",
       "      <td>1.9</td>\n",
       "      <td>0.075</td>\n",
       "      <td>17.0</td>\n",
       "      <td>60.0</td>\n",
       "      <td>0.9980</td>\n",
       "      <td>3.16</td>\n",
       "      <td>0.58</td>\n",
       "      <td>9.8</td>\n",
       "      <td>6</td>\n",
       "      <td>red</td>\n",
       "    </tr>\n",
       "    <tr>\n",
       "      <th>4</th>\n",
       "      <td>7.4</td>\n",
       "      <td>0.70</td>\n",
       "      <td>0.00</td>\n",
       "      <td>1.9</td>\n",
       "      <td>0.076</td>\n",
       "      <td>11.0</td>\n",
       "      <td>34.0</td>\n",
       "      <td>0.9978</td>\n",
       "      <td>3.51</td>\n",
       "      <td>0.56</td>\n",
       "      <td>9.4</td>\n",
       "      <td>5</td>\n",
       "      <td>red</td>\n",
       "    </tr>\n",
       "  </tbody>\n",
       "</table>\n",
       "</div>"
      ],
      "text/plain": [
       "   fixed acidity  volatile acidity  citric acid  residual sugar  chlorides  \\\n",
       "0            7.4              0.70         0.00             1.9      0.076   \n",
       "1            7.8              0.88         0.00             2.6      0.098   \n",
       "2            7.8              0.76         0.04             2.3      0.092   \n",
       "3           11.2              0.28         0.56             1.9      0.075   \n",
       "4            7.4              0.70         0.00             1.9      0.076   \n",
       "\n",
       "   free sulfur dioxide  total sulfur dioxide  density    pH  sulphates  \\\n",
       "0                 11.0                  34.0   0.9978  3.51       0.56   \n",
       "1                 25.0                  67.0   0.9968  3.20       0.68   \n",
       "2                 15.0                  54.0   0.9970  3.26       0.65   \n",
       "3                 17.0                  60.0   0.9980  3.16       0.58   \n",
       "4                 11.0                  34.0   0.9978  3.51       0.56   \n",
       "\n",
       "   alcohol  quality wine_name  \n",
       "0      9.4        5       red  \n",
       "1      9.8        5       red  \n",
       "2      9.8        5       red  \n",
       "3      9.8        6       red  \n",
       "4      9.4        5       red  "
      ]
     },
     "execution_count": 2,
     "metadata": {},
     "output_type": "execute_result"
    }
   ],
   "source": [
    "df = pd.read_csv(\"../data/PreProcessed/MixWine.csv\")\n",
    "df.head()"
   ]
  },
  {
   "cell_type": "markdown",
   "id": "0aa0f1d3",
   "metadata": {},
   "source": [
    "#### The train data set is composed of all the features execpt the quality( which is the target) and the wine type"
   ]
  },
  {
   "cell_type": "code",
   "execution_count": 3,
   "id": "ebaf0407",
   "metadata": {},
   "outputs": [],
   "source": [
    "df_tree = df.copy()\n",
    "X = df_tree.select_dtypes(include=['number']).drop(columns=['quality']) #data selection for the training\n",
    "y = df_tree['quality']                      #target\n",
    "X_train, X_test, y_train, y_test = train_test_split(X, y, test_size=0.2, random_state=1) #split the data into test.train"
   ]
  },
  {
   "cell_type": "code",
   "execution_count": 4,
   "id": "8aaff85c",
   "metadata": {},
   "outputs": [
    {
     "data": {
      "text/plain": [
       "0.5846153846153846"
      ]
     },
     "execution_count": 4,
     "metadata": {},
     "output_type": "execute_result"
    }
   ],
   "source": [
    "tree = DecisionTreeClassifier(random_state=1)\n",
    "tree.fit(X_train, y_train) #creating the tree\n",
    "\n",
    "y_pred = tree.predict(X_test) #prediction\n",
    "accuracy_score(y_test, y_pred)"
   ]
  },
  {
   "cell_type": "code",
   "execution_count": 5,
   "id": "67e0beb4",
   "metadata": {},
   "outputs": [
    {
     "data": {
      "text/plain": [
       "23"
      ]
     },
     "execution_count": 5,
     "metadata": {},
     "output_type": "execute_result"
    }
   ],
   "source": [
    "tree.tree_.max_depth"
   ]
  },
  {
   "cell_type": "markdown",
   "id": "f94cd743",
   "metadata": {},
   "source": [
    "##### By default Scikit learn will search for a good maximum depth for the tree. \n",
    "> Here the accuracy = 0.58461. At First sight it is not a great result. However, the k-means clustering had a 0.36 accuracy score. The tree seems more suited for tha type of data.\n",
    "\n",
    ">Still, the tree model is not that suited for this data set. Also the tree has a maximum length of 23."
   ]
  },
  {
   "cell_type": "markdown",
   "id": "6489b9fa",
   "metadata": {},
   "source": [
    "Here, we watch the accuracy score of the decision tree according to its maximu depth"
   ]
  },
  {
   "cell_type": "code",
   "execution_count": 6,
   "id": "d2cb6969",
   "metadata": {},
   "outputs": [
    {
     "name": "stdout",
     "output_type": "stream",
     "text": [
      "accuracy for max_depth = 3 = 0.5423076923076923\n",
      "accuracy for max_depth = 4 = 0.5446153846153846\n",
      "accuracy for max_depth = 5 = 0.5292307692307693\n",
      "accuracy for max_depth = 6 = 0.5261538461538462\n",
      "accuracy for max_depth = 7 = 0.5330769230769231\n",
      "accuracy for max_depth = 8 = 0.5376923076923077\n",
      "accuracy for max_depth = 9 = 0.556923076923077\n",
      "accuracy for max_depth = 10 = 0.5615384615384615\n",
      "accuracy for max_depth = 11 = 0.5584615384615385\n",
      "accuracy for max_depth = 12 = 0.5661538461538461\n",
      "accuracy for max_depth = 13 = 0.5615384615384615\n",
      "accuracy for max_depth = 14 = 0.563076923076923\n",
      "accuracy for max_depth = 15 = 0.5638461538461539\n",
      "accuracy for max_depth = 16 = 0.5676923076923077\n",
      "accuracy for max_depth = 17 = 0.5761538461538461\n",
      "accuracy for max_depth = 18 = 0.5753846153846154\n",
      "accuracy for max_depth = 19 = 0.583076923076923\n",
      "accuracy for max_depth = 20 = 0.5838461538461538\n",
      "accuracy for max_depth = 21 = 0.583076923076923\n",
      "accuracy for max_depth = 22 = 0.5915384615384616\n",
      "accuracy for max_depth = 23 = 0.5846153846153846\n"
     ]
    }
   ],
   "source": [
    "acc_plt = []\n",
    "for i in range(3,24):\n",
    "    tree_i = DecisionTreeClassifier(random_state=1, max_depth=i)\n",
    "    tree_i.fit(X_train, y_train) #creating the tree\n",
    "    y_pred_ = tree_i.predict(X_test) #prediction\n",
    "    acc = accuracy_score(y_test, y_pred_)\n",
    "    acc_plt.append(acc)\n",
    "    print(f\"accuracy for max_depth = {i} = {acc}\")"
   ]
  },
  {
   "cell_type": "code",
   "execution_count": 7,
   "id": "5191c9fe",
   "metadata": {},
   "outputs": [
    {
     "data": {
      "image/png": "[encoded data removed]",
      "text/plain": [
       "<Figure size 1152x432 with 2 Axes>"
      ]
     },
     "metadata": {
      "needs_background": "light"
     },
     "output_type": "display_data"
    }
   ],
   "source": [
    "plt.figure(figsize = (16,6))\n",
    "plt.subplot(122)\n",
    "plt.plot(range(3, 24), acc_plt, marker='o')\n",
    "plt.title('Accuracy / Max Depth : zoom in')\n",
    "plt.xlabel('Max Depth')\n",
    "plt.ylabel('Accuracy')\n",
    "plt.grid(True)\n",
    "plt.xticks(range(3, 24, 1)) \n",
    "\n",
    "plt.subplot(121)\n",
    "plt.plot(range(3, 24), acc_plt, marker='o')\n",
    "plt.title('Accuracy / Max Depth')\n",
    "plt.xlabel('Max Depth')\n",
    "plt.ylabel('Accuracy')\n",
    "plt.grid(True)\n",
    "plt.xticks(range(3, 24, 1)) \n",
    "plt.ylim(0, 1)\n",
    "\n",
    "plt.tight_layout()\n",
    "plt.show()"
   ]
  },
  {
   "cell_type": "markdown",
   "id": "f63ae277",
   "metadata": {},
   "source": [
    "These plots show that the accuracy amelioration is not great from a maximum depth of 3 to a max depth of 23. \n",
    "With a maximum depth of 3 we have a 54% accuracy, while with 23 we have 58%. The step is not great for such a different complexity.  \n",
    "> The model needs some pruning. \n",
    "\n",
    "> Even with pruning and the accuracy increase compared to unsupervised methods, tree can't predict with a great accuracy the wine quality"
   ]
  },
  {
   "cell_type": "raw",
   "id": "f64fdf32",
   "metadata": {
    "scrolled": false
   },
   "source": [
    "#Code to plot the tree with max depth = 3\n",
    "tree_3 = DecisionTreeClassifier(random_state=1, max_depth=3)\n",
    "tree_3.fit(X_train, y_train) #creating the tree\n",
    "y_pred_ = tree_3.predict(X_test) #prediction\n",
    "y = y.astype(str)\n",
    "plt.figure(figsize=(10,6))\n",
    "plot_tree(tree_3, feature_names=df_tree.columns, class_names=y, filled=True)\n",
    "plt.show()"
   ]
  },
  {
   "cell_type": "markdown",
   "id": "e5d94d3c",
   "metadata": {},
   "source": [
    "## What about a random forest\n",
    "\n",
    "A random forest creates a certain number of trees : as a swarm, each member is not a great model but together they can give great results"
   ]
  },
  {
   "cell_type": "code",
   "execution_count": 26,
   "id": "3a0d01ff",
   "metadata": {},
   "outputs": [],
   "source": [
    "from sklearn.ensemble import RandomForestClassifier\n",
    "from sklearn.metrics import accuracy_score, precision_score, recall_score, f1_score"
   ]
  },
  {
   "cell_type": "code",
   "execution_count": 27,
   "id": "115a1e4d",
   "metadata": {},
   "outputs": [],
   "source": [
    "rfc = RandomForestClassifier(n_estimators=10, random_state=1, max_depth=10) #random forest with 10 trees \n",
    "                                                                            #each with a max depth of 10"
   ]
  },
  {
   "cell_type": "code",
   "execution_count": 28,
   "id": "e138630b",
   "metadata": {},
   "outputs": [
    {
     "data": {
      "text/html": [
       "<style>#sk-container-id-3 {color: black;}#sk-container-id-3 pre{padding: 0;}#sk-container-id-3 div.sk-toggleable {background-color: white;}#sk-container-id-3 label.sk-toggleable__label {cursor: pointer;display: block;width: 100%;margin-bottom: 0;padding: 0.3em;box-sizing: border-box;text-align: center;}#sk-container-id-3 label.sk-toggleable__label-arrow:before {content: \"▸\";float: left;margin-right: 0.25em;color: #696969;}#sk-container-id-3 label.sk-toggleable__label-arrow:hover:before {color: black;}#sk-container-id-3 div.sk-estimator:hover label.sk-toggleable__label-arrow:before {color: black;}#sk-container-id-3 div.sk-toggleable__content {max-height: 0;max-width: 0;overflow: hidden;text-align: left;background-color: #f0f8ff;}#sk-container-id-3 div.sk-toggleable__content pre {margin: 0.2em;color: black;border-radius: 0.25em;background-color: #f0f8ff;}#sk-container-id-3 input.sk-toggleable__control:checked~div.sk-toggleable__content {max-height: 200px;max-width: 100%;overflow: auto;}#sk-container-id-3 input.sk-toggleable__control:checked~label.sk-toggleable__label-arrow:before {content: \"▾\";}#sk-container-id-3 div.sk-estimator input.sk-toggleable__control:checked~label.sk-toggleable__label {background-color: #d4ebff;}#sk-container-id-3 div.sk-label input.sk-toggleable__control:checked~label.sk-toggleable__label {background-color: #d4ebff;}#sk-container-id-3 input.sk-hidden--visually {border: 0;clip: rect(1px 1px 1px 1px);clip: rect(1px, 1px, 1px, 1px);height: 1px;margin: -1px;overflow: hidden;padding: 0;position: absolute;width: 1px;}#sk-container-id-3 div.sk-estimator {font-family: monospace;background-color: #f0f8ff;border: 1px dotted black;border-radius: 0.25em;box-sizing: border-box;margin-bottom: 0.5em;}#sk-container-id-3 div.sk-estimator:hover {background-color: #d4ebff;}#sk-container-id-3 div.sk-parallel-item::after {content: \"\";width: 100%;border-bottom: 1px solid gray;flex-grow: 1;}#sk-container-id-3 div.sk-label:hover label.sk-toggleable__label {background-color: #d4ebff;}#sk-container-id-3 div.sk-serial::before {content: \"\";position: absolute;border-left: 1px solid gray;box-sizing: border-box;top: 0;bottom: 0;left: 50%;z-index: 0;}#sk-container-id-3 div.sk-serial {display: flex;flex-direction: column;align-items: center;background-color: white;padding-right: 0.2em;padding-left: 0.2em;position: relative;}#sk-container-id-3 div.sk-item {position: relative;z-index: 1;}#sk-container-id-3 div.sk-parallel {display: flex;align-items: stretch;justify-content: center;background-color: white;position: relative;}#sk-container-id-3 div.sk-item::before, #sk-container-id-3 div.sk-parallel-item::before {content: \"\";position: absolute;border-left: 1px solid gray;box-sizing: border-box;top: 0;bottom: 0;left: 50%;z-index: -1;}#sk-container-id-3 div.sk-parallel-item {display: flex;flex-direction: column;z-index: 1;position: relative;background-color: white;}#sk-container-id-3 div.sk-parallel-item:first-child::after {align-self: flex-end;width: 50%;}#sk-container-id-3 div.sk-parallel-item:last-child::after {align-self: flex-start;width: 50%;}#sk-container-id-3 div.sk-parallel-item:only-child::after {width: 0;}#sk-container-id-3 div.sk-dashed-wrapped {border: 1px dashed gray;margin: 0 0.4em 0.5em 0.4em;box-sizing: border-box;padding-bottom: 0.4em;background-color: white;}#sk-container-id-3 div.sk-label label {font-family: monospace;font-weight: bold;display: inline-block;line-height: 1.2em;}#sk-container-id-3 div.sk-label-container {text-align: center;}#sk-container-id-3 div.sk-container {/* jupyter's `normalize.less` sets `[hidden] { display: none; }` but bootstrap.min.css set `[hidden] { display: none !important; }` so we also need the `!important` here to be able to override the default hidden behavior on the sphinx rendered scikit-learn.org. See: https://github.com/scikit-learn/scikit-learn/issues/21755 */display: inline-block !important;position: relative;}#sk-container-id-3 div.sk-text-repr-fallback {display: none;}</style><div id=\"sk-container-id-3\" class=\"sk-top-container\"><div class=\"sk-text-repr-fallback\"><pre>RandomForestClassifier(max_depth=10, n_estimators=10, random_state=1)</pre><b>In a Jupyter environment, please rerun this cell to show the HTML representation or trust the notebook. <br />On GitHub, the HTML representation is unable to render, please try loading this page with nbviewer.org.</b></div><div class=\"sk-container\" hidden><div class=\"sk-item\"><div class=\"sk-estimator sk-toggleable\"><input class=\"sk-toggleable__control sk-hidden--visually\" id=\"sk-estimator-id-3\" type=\"checkbox\" checked><label for=\"sk-estimator-id-3\" class=\"sk-toggleable__label sk-toggleable__label-arrow\">RandomForestClassifier</label><div class=\"sk-toggleable__content\"><pre>RandomForestClassifier(max_depth=10, n_estimators=10, random_state=1)</pre></div></div></div></div></div>"
      ],
      "text/plain": [
       "RandomForestClassifier(max_depth=10, n_estimators=10, random_state=1)"
      ]
     },
     "execution_count": 28,
     "metadata": {},
     "output_type": "execute_result"
    }
   ],
   "source": [
    "rfc.fit(X_train, y_train)"
   ]
  },
  {
   "cell_type": "code",
   "execution_count": 35,
   "id": "108e5496",
   "metadata": {},
   "outputs": [
    {
     "name": "stdout",
     "output_type": "stream",
     "text": [
      "Precision: 0.6159796820145874\n",
      "Recall: 0.6261538461538462\n",
      "F1 Score: 0.6068395053716658\n",
      "Accuracy : 0.6261538461538462\n"
     ]
    }
   ],
   "source": [
    "y_pred = rfc.predict(X_test)\n",
    "accuracy = rfc.score(X_test, y_test)\n",
    "precision = precision_score(y_test, y_pred, average='weighted', zero_division=1)\n",
    "recall = recall_score(y_test, y_pred, average='weighted', zero_division=1)\n",
    "f1 = f1_score(y_test, y_pred, average='weighted', zero_division=1)\n",
    "print(f\"Precision: {precision}\")\n",
    "print(f\"Recall: {recall}\")\n",
    "print(f\"F1 Score: {f1}\")\n",
    "print(f\"Accuracy : {accuracy}\")"
   ]
  },
  {
   "cell_type": "markdown",
   "id": "2be6c0cf",
   "metadata": {},
   "source": [
    "With max_depth = 10 : <br>\n",
    "Accuracy with 1 tree: 0.5615384615384615 <br>\n",
    "Accuracy with 10 trees : 0.6261538461538462 <br>\n",
    "Accuracy with 100 trees: 0.6338461538461538 <br>\n",
    "Accuracy with 1000 trees: 0.6346153846153846 <br>"
   ]
  },
  {
   "cell_type": "code",
   "execution_count": 16,
   "id": "51306e58",
   "metadata": {},
   "outputs": [
    {
     "data": {
      "image/png": "[encoded data removed]",
      "text/plain": [
       "<Figure size 1152x432 with 2 Axes>"
      ]
     },
     "metadata": {
      "needs_background": "light"
     },
     "output_type": "display_data"
    }
   ],
   "source": [
    "num_trees = [1, 10, 100, 1000]\n",
    "accuracies = [0.5615384615384615, 0.6261538461538462, 0.6338461538461538, 0.6346153846153846]\n",
    "\n",
    "plt.figure(figsize = (16,6))\n",
    "plt.subplot(121)\n",
    "plt.plot(num_trees, accuracies, marker='o')\n",
    "plt.title('Random Forest Accuracy (Log Scale)')\n",
    "plt.xlabel('Number of Trees')\n",
    "plt.ylabel('Accuracy')\n",
    "plt.xscale('log')\n",
    "plt.grid(True)\n",
    "\n",
    "plt.subplot(122)\n",
    "plt.plot(num_trees, accuracies, marker='o')\n",
    "plt.title('Random Forest Accuracy (Log Scale) with ylim(0, 1)')\n",
    "plt.xlabel('Number of Trees')\n",
    "plt.ylabel('Accuracy')\n",
    "plt.xscale('log') \n",
    "plt.ylim(0, 1) \n",
    "plt.grid(True)\n",
    "\n",
    "plt.show()"
   ]
  },
  {
   "cell_type": "markdown",
   "id": "0da1990a",
   "metadata": {},
   "source": [
    "### Conclusion on trees and forest\n",
    "> Forest give indeed a better accuracy than a single more complex tree\n",
    "\n",
    "> The forest do not increase the accuracy significantly. With 1 tree accuracy = 0.56, with 10 trees = 0.626. Then the accuracy stagnates even with 10 times trees again and again.\n",
    "\n",
    "> The decison tree model reached its limit with this data set : the supervised aspect of it allows to get to 0.6 accuracy compared to less than 0.4 for the clustering. "
   ]
  },
  {
   "cell_type": "markdown",
   "id": "f446090b",
   "metadata": {},
   "source": [
    "### With another target\n",
    "A casual wine drinker could be more interested in knowing if the wine has a really high, really low or mid quality.\n",
    "Here we work with the same dataa set but another target : quality 3 & 4 = bad = 0 ; quality 5, 6 & 7 = mid = 1 ; quality 8 & 9 = high = 0."
   ]
  },
  {
   "cell_type": "code",
   "execution_count": 17,
   "id": "020e4275",
   "metadata": {},
   "outputs": [],
   "source": [
    "df_tree2 = df.copy()\n",
    "X2 = df_tree2.select_dtypes(include=['number']).drop(columns=['quality']) #data\n",
    "y2 = df_tree2['quality']                      #target\n",
    "y2 = y2.replace({3: 0, 4: 0, 5: 1, 6: 1, 7: 1, 8: 2, 9: 2})\n",
    "X_train2, X_test2, y_train2, y_test2 = train_test_split(X, y, test_size=0.2, random_state=1)"
   ]
  },
  {
   "cell_type": "code",
   "execution_count": 18,
   "id": "3c0dc83e",
   "metadata": {},
   "outputs": [
    {
     "data": {
      "image/png": "[encoded data removed]",
      "text/plain": [
       "<Figure size 432x288 with 1 Axes>"
      ]
     },
     "metadata": {
      "needs_background": "light"
     },
     "output_type": "display_data"
    }
   ],
   "source": [
    "plt.figure()\n",
    "y2.hist()\n",
    "plt.show()"
   ]
  },
  {
   "cell_type": "code",
   "execution_count": 19,
   "id": "e714f473",
   "metadata": {},
   "outputs": [
    {
     "data": {
      "text/plain": [
       "0.5846153846153846"
      ]
     },
     "execution_count": 19,
     "metadata": {},
     "output_type": "execute_result"
    }
   ],
   "source": [
    "tree2 = DecisionTreeClassifier(random_state=1)\n",
    "tree2.fit(X_train2, y_train2) #creating the tree\n",
    "\n",
    "y_pred2 = tree2.predict(X_test2) #prediction\n",
    "accuracy_score(y_test2, y_pred2)"
   ]
  },
  {
   "cell_type": "markdown",
   "id": "ee072d1c",
   "metadata": {},
   "source": [
    "We obtained the exact same accuracy for the first taget. For a single tree, changing the target didn't increase the qality"
   ]
  },
  {
   "cell_type": "code",
   "execution_count": 20,
   "id": "80e2d4de",
   "metadata": {},
   "outputs": [
    {
     "name": "stdout",
     "output_type": "stream",
     "text": [
      "accuracy for max_depth = 1 = 0.4976923076923077\n",
      "accuracy for max_depth = 2 = 0.5346153846153846\n",
      "accuracy for max_depth = 3 = 0.5423076923076923\n"
     ]
    }
   ],
   "source": [
    "max_d = 0\n",
    "index = 0\n",
    "for i in range(1,4):\n",
    "    tree_i2 = DecisionTreeClassifier(random_state=1, max_depth=i)\n",
    "    tree_i2.fit(X_train, y_train) #creating the tree\n",
    "    y_pred_2 = tree_i2.predict(X_test) #prediction\n",
    "    acc2 = accuracy_score(y_test, y_pred_2)\n",
    "    if(acc2 > max_d):\n",
    "        max_d = acc2\n",
    "        index = i\n",
    "    print(f\"accuracy for max_depth = {i} = {acc2}\")"
   ]
  },
  {
   "cell_type": "code",
   "execution_count": 21,
   "id": "f8decc66",
   "metadata": {},
   "outputs": [
    {
     "data": {
      "text/plain": [
       "(3, 0.5423076923076923)"
      ]
     },
     "execution_count": 21,
     "metadata": {},
     "output_type": "execute_result"
    }
   ],
   "source": [
    "index, max_d"
   ]
  },
  {
   "cell_type": "raw",
   "id": "b374782f",
   "metadata": {},
   "source": [
    "y2 = y2.astype(str)\n",
    "plt.figure(figsize=(20, 15))\n",
    "plot_tree(tree_i2, feature_names=df_tree.columns, class_names=y2, filled=True)\n",
    "plt.show()"
   ]
  },
  {
   "cell_type": "code",
   "execution_count": 23,
   "id": "0527309f",
   "metadata": {},
   "outputs": [
    {
     "data": {
      "text/plain": [
       "(array([3, 4, 5, 6, 7, 8, 9]), array([  7,  44, 456, 556, 207,  29,   1]))"
      ]
     },
     "execution_count": 23,
     "metadata": {},
     "output_type": "execute_result"
    }
   ],
   "source": [
    "np.unique(y_pred2, return_counts=True)"
   ]
  },
  {
   "cell_type": "code",
   "execution_count": 24,
   "id": "5f2a5bab",
   "metadata": {},
   "outputs": [
    {
     "name": "stdout",
     "output_type": "stream",
     "text": [
      "Accuracy : 0.5384615384615384\n"
     ]
    }
   ],
   "source": [
    "rfc2 = RandomForestClassifier(n_estimators=100, random_state=1, max_depth=3) #random forest with 10 trees\n",
    "rfc2.fit(X_train, y_train)\n",
    "accuracy2 = rfc2.score(X_test, y_test)\n",
    "print(f\"Accuracy : {accuracy2}\")"
   ]
  },
  {
   "cell_type": "markdown",
   "id": "8b5fc64c",
   "metadata": {},
   "source": [
    "Changing the target seemed like a good idea, but it turned out not to be. The accuracy is 0.538 with 100 trees and 0.54 with 1000 trees. \n",
    "> It is now evident that the data with a specific quality lack sufficient distinct or appropriate feature values to predict the quality accurately, whether using a single decision tree or a forest.\n",
    "\n",
    "> If the max legnth is not provided, the tree seems to overfit and stil has an accuracy that's only 9% better than a tree with a max length of 3 (max 3 vs 23)."
   ]
  },
  {
   "cell_type": "markdown",
   "id": "769b8796",
   "metadata": {},
   "source": [
    "### A wine quality can depend on the wine composition, but very different set of compositon can lead to the same quality. Further more, there are other parameters for the wine quality. As none expert we don't know them, also some can't be put in numbers. We can only see that to obtain a great quality, it takes more than a specific chimical composition."
   ]
  },
  {
   "cell_type": "code",
   "execution_count": null,
   "id": "c5fc2ba6",
   "metadata": {},
   "outputs": [],
   "source": []
  }
 ],
 "metadata": {
  "kernelspec": {
   "display_name": "Python 3 (ipykernel)",
   "language": "python",
   "name": "python3"
  },
  "language_info": {
   "codemirror_mode": {
    "name": "ipython",
    "version": 3
   },
   "file_extension": ".py",
   "mimetype": "text/x-python",
   "name": "python",
   "nbconvert_exporter": "python",
   "pygments_lexer": "ipython3",
   "version": "3.9.12"
  }
 },
 "nbformat": 4,
 "nbformat_minor": 5
}
