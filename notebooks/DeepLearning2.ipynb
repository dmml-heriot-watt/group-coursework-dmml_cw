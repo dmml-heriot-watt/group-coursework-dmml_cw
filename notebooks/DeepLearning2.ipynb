{
 "cells": [
  {
   "cell_type": "code",
   "execution_count": 1,
   "id": "65bb0d17-1f77-42d7-b00e-e0e3c15ba5d5",
   "metadata": {},
   "outputs": [
    {
     "name": "stderr",
     "output_type": "stream",
     "text": [
      "C:\\Users\\Vikas\\AppData\\Local\\Programs\\Python\\Python310\\lib\\site-packages\\scipy\\__init__.py:146: UserWarning: A NumPy version >=1.17.3 and <1.25.0 is required for this version of SciPy (detected version 1.26.2\n",
      "  warnings.warn(f\"A NumPy version >={np_minversion} and <{np_maxversion}\"\n"
     ]
    },
    {
     "name": "stdout",
     "output_type": "stream",
     "text": [
      "WARNING:tensorflow:From C:\\Users\\Vikas\\AppData\\Local\\Programs\\Python\\Python310\\lib\\site-packages\\keras\\src\\losses.py:2976: The name tf.losses.sparse_softmax_cross_entropy is deprecated. Please use tf.compat.v1.losses.sparse_softmax_cross_entropy instead.\n",
      "\n"
     ]
    }
   ],
   "source": [
    "import numpy as np\n",
    "import os\n",
    "from tensorflow.keras.preprocessing.image import load_img, img_to_array\n",
    "from tensorflow.keras.utils import to_categorical\n",
    "from sklearn.preprocessing import LabelEncoder"
   ]
  },
  {
   "cell_type": "code",
   "execution_count": 2,
   "id": "64c879d3-43f2-4e5a-84fe-a33a6f3138e9",
   "metadata": {},
   "outputs": [],
   "source": [
    "# Define paths to the training and testing data\n",
    "train_data_dir = '../data/fruits-360/Training'\n",
    "test_data_dir = '../data/fruits-360/Test'\n",
    "\n",
    "\n",
    "def load_data(data_directory):\n",
    "    images = []\n",
    "    labels = []\n",
    "    for sub_directory in os.listdir(data_directory): # iterating through each directory\n",
    "        sub_directory_path = os.path.join(data_directory, sub_directory)\n",
    "        # print(images_path)\n",
    "        for image_fruit in os.listdir(sub_directory_path):\n",
    "            image_path = os.path.join(sub_directory_path, image_fruit)\n",
    "            # print(image_path)\n",
    "            # print(sub_directory)\n",
    "            img = load_img(image_path, target_size=(100, 100))\n",
    "            img_array = img_to_array(img)\n",
    "            img_array /= 255.0  # Normalize the pixel values\n",
    "\n",
    "            # Append the image and its label to the lists\n",
    "            images.append(img_array)\n",
    "            labels.append(sub_directory)\n",
    "    return np.array(images), np.array(labels)"
   ]
  },
  {
   "cell_type": "code",
   "execution_count": 3,
   "id": "fc805746-69cc-4f7c-a32b-e5042f5d320d",
   "metadata": {},
   "outputs": [],
   "source": [
    "x_train, y_train = load_data(train_data_dir)\n",
    "x_test, y_test = load_data(test_data_dir)"
   ]
  },
  {
   "cell_type": "code",
   "execution_count": 4,
   "id": "966164d7-3d0e-46f3-b92f-29197a50dfda",
   "metadata": {},
   "outputs": [
    {
     "data": {
      "text/plain": [
       "array(['Apple Braeburn', 'Apple Braeburn', 'Apple Braeburn', ..., 'Dates',\n",
       "       'Dates', 'Dates'], dtype='<U18')"
      ]
     },
     "execution_count": 4,
     "metadata": {},
     "output_type": "execute_result"
    }
   ],
   "source": [
    "y_train"
   ]
  },
  {
   "cell_type": "code",
   "execution_count": 5,
   "id": "8c764142-6419-47f2-b1d0-ac258a7e3a0e",
   "metadata": {},
   "outputs": [],
   "source": [
    "from sklearn.preprocessing import LabelEncoder\n",
    "from tensorflow.keras.utils import to_categorical\n",
    "\n",
    "# Assuming you have class labels as strings in y_train and y_test\n",
    "# Convert them to integer labels using LabelEncoder\n",
    "\n",
    "label_encoder = LabelEncoder()\n",
    "\n",
    "# Fit and transform on training data\n",
    "y_train_encoded = label_encoder.fit_transform(y_train)\n",
    "\n",
    "# Transform on testing data (use the same encoder fitted on training data)\n",
    "y_test_encoded = label_encoder.transform(y_test)\n",
    "\n",
    "# Convert integer labels to one-hot encoding\n",
    "num_classes = len(label_encoder.classes_)\n",
    "y_train_one_hot = to_categorical(y_train_encoded, num_classes=num_classes)\n",
    "y_test_one_hot = to_categorical(y_test_encoded, num_classes=num_classes)"
   ]
  },
  {
   "cell_type": "code",
   "execution_count": null,
   "id": "a09c8208",
   "metadata": {},
   "outputs": [],
   "source": []
  },
  {
   "cell_type": "code",
   "execution_count": null,
   "id": "60298a5e-80d5-46a7-a65f-d2676b327b50",
   "metadata": {},
   "outputs": [],
   "source": [
    "\n"
   ]
  },
  {
   "cell_type": "code",
   "execution_count": 6,
   "id": "fb5e4e2e",
   "metadata": {},
   "outputs": [],
   "source": [
    "# Reshape your input data if needed (adjust the shape based on your image dimensions)\n",
    "X_train_flattened = x_train.reshape(len(x_train), 100 * 100 * 3)\n",
    "X_test_flattened = x_test.reshape(len(x_test), 100 * 100 * 3)"
   ]
  },
  {
   "cell_type": "code",
   "execution_count": 7,
   "id": "77f0078d",
   "metadata": {},
   "outputs": [
    {
     "data": {
      "text/plain": [
       "(14046, 28)"
      ]
     },
     "execution_count": 7,
     "metadata": {},
     "output_type": "execute_result"
    }
   ],
   "source": [
    "y_train_one_hot.shape"
   ]
  },
  {
   "cell_type": "code",
   "execution_count": 57,
   "id": "401ba635",
   "metadata": {},
   "outputs": [
    {
     "name": "stdout",
     "output_type": "stream",
     "text": [
      "Epoch 1/5\n",
      "439/439 [==============================] - 6s 12ms/step - loss: 2.1897 - accuracy: 0.8026\n",
      "Epoch 2/5\n",
      "439/439 [==============================] - 5s 12ms/step - loss: 0.5063 - accuracy: 0.9208\n",
      "Epoch 3/5\n",
      "439/439 [==============================] - 5s 12ms/step - loss: 0.5851 - accuracy: 0.9250\n",
      "Epoch 4/5\n",
      "439/439 [==============================] - 5s 12ms/step - loss: 0.2528 - accuracy: 0.9640\n",
      "Epoch 5/5\n",
      "439/439 [==============================] - 5s 12ms/step - loss: 0.3620 - accuracy: 0.9524\n"
     ]
    },
    {
     "data": {
      "text/plain": [
       "<keras.src.callbacks.History at 0x200c04e6410>"
      ]
     },
     "execution_count": 57,
     "metadata": {},
     "output_type": "execute_result"
    }
   ],
   "source": [
    "from tensorflow import keras\n",
    "\n",
    "model = keras.Sequential([\n",
    "    keras.layers.Dense(28, input_shape=(100 * 100 * 3,), activation=\"softmax\")\n",
    "])\n",
    "\n",
    "# Compile the model\n",
    "model.compile(\n",
    "    optimizer=\"adam\",\n",
    "    loss=\"categorical_crossentropy\",  # Use categorical crossentropy for one-hot encoded labels\n",
    "    metrics=[\"accuracy\"]\n",
    ")\n",
    "\n",
    "# Train the model\n",
    "model.fit(X_train_flattened, y_train_one_hot, epochs=5)\n",
    "\n"
   ]
  },
  {
   "cell_type": "code",
   "execution_count": 58,
   "id": "7be846bc-bcbf-456b-9464-dd6a80653725",
   "metadata": {},
   "outputs": [
    {
     "name": "stdout",
     "output_type": "stream",
     "text": [
      "148/148 [==============================] - 1s 5ms/step - loss: 3.2429 - accuracy: 0.7950\n"
     ]
    },
    {
     "data": {
      "text/plain": [
       "[3.242910385131836, 0.7950297594070435]"
      ]
     },
     "execution_count": 58,
     "metadata": {},
     "output_type": "execute_result"
    }
   ],
   "source": [
    "# Evaluate the model on the test set\n",
    "model.evaluate(X_test_flattened, y_test_one_hot)"
   ]
  },
  {
   "cell_type": "code",
   "execution_count": 59,
   "id": "30ee0282",
   "metadata": {},
   "outputs": [
    {
     "name": "stdout",
     "output_type": "stream",
     "text": [
      "148/148 [==============================] - 1s 5ms/step\n"
     ]
    }
   ],
   "source": [
    "y_predicted = model.predict(X_test_flattened)"
   ]
  },
  {
   "cell_type": "code",
   "execution_count": 60,
   "id": "c6978cfc",
   "metadata": {},
   "outputs": [
    {
     "data": {
      "text/plain": [
       "0"
      ]
     },
     "execution_count": 60,
     "metadata": {},
     "output_type": "execute_result"
    }
   ],
   "source": [
    "np.argmax(y_predicted[2])"
   ]
  },
  {
   "cell_type": "code",
   "execution_count": 61,
   "id": "e0e0342f",
   "metadata": {},
   "outputs": [
    {
     "data": {
      "text/plain": [
       "[0, 0, 0, 0, 0, 0, 0, 0, 0, 0]"
      ]
     },
     "execution_count": 61,
     "metadata": {},
     "output_type": "execute_result"
    }
   ],
   "source": [
    "y_predicted_labels = [np.argmax(val) for val in y_predicted]\n",
    "y_predicted_labels[:10]"
   ]
  },
  {
   "cell_type": "code",
   "execution_count": 62,
   "id": "b768c766-b220-4b8f-806c-3a5db35630e9",
   "metadata": {},
   "outputs": [
    {
     "data": {
      "text/plain": [
       "4"
      ]
     },
     "execution_count": 62,
     "metadata": {},
     "output_type": "execute_result"
    }
   ],
   "source": [
    "np.argmax(y_test_one_hot[725])"
   ]
  },
  {
   "cell_type": "code",
   "execution_count": 63,
   "id": "6c84571b-e1b6-4131-bf91-e5f52b3bda75",
   "metadata": {},
   "outputs": [
    {
     "data": {
      "text/plain": [
       "<tf.Tensor: shape=(28, 28), dtype=int32, numpy=\n",
       "array([[ 96,  59,   0,   0,   0,   0,   0,   0,   0,   0,   0,   0,   0,\n",
       "          0,   0,   0,   0,   0,   0,   0,   0,   0,   9,   0,   0,   0,\n",
       "          0,   0],\n",
       "       [  0, 131,   0,   0,   0,   0,   0,   0,   0,   0,   0,   0,   0,\n",
       "          0,   0,   0,   0,   0,   0,  33,   0,   0,   0,   0,   0,   0,\n",
       "          0,   0],\n",
       "       [  0,   0, 143,   0,   0,   0,   0,   0,   0,   0,   0,   0,   0,\n",
       "          0,   0,   0,   0,   0,   0,   0,   0,   0,   0,   0,   0,   0,\n",
       "          0,   0],\n",
       "       [  0,   0,   0, 166,   0,   0,   0,   0,   0,   0,   0,   0,   0,\n",
       "          0,   0,   0,   0,   0,   0,   0,   0,   0,   0,   0,   0,   0,\n",
       "          0,   0],\n",
       "       [  0,   0,   0,   0,  71,  94,   0,   0,   0,   0,   0,   0,   0,\n",
       "          0,   0,   0,   0,   0,   0,   0,   0,   0,   0,   0,   1,   0,\n",
       "          0,   0],\n",
       "       [  0,   0,   0,   0,   0, 103,   0,   0,   0,   0,   0,   0,   0,\n",
       "          0,   0,   0,   0,   0,   0,   0,   0,   0,   0,   0,  47,   2,\n",
       "          0,   0],\n",
       "       [  0,   0,   0,   0,   0,   0,  88,   0,   0,   0,   0,   0,   0,\n",
       "          0,   0,   0,   0,   0,   0,   0,   0,   0,   0,   0,  52,  26,\n",
       "          0,   0],\n",
       "       [  0,   0,   0,   1,   0,   0,   0, 110,   0,   0,   0,   0,   0,\n",
       "         35,   0,   0,   0,   0,   0,   0,   0,   0,   0,   0,   0,   0,\n",
       "          4,   0],\n",
       "       [  0,   0,   0,   0,   0,   0,   0,   0, 154,   0,   0,   0,   0,\n",
       "          0,   0,   0,   0,   0,   0,   0,   0,   0,   0,   0,   0,   0,\n",
       "          0,   0],\n",
       "       [  0,   0,   0,   0,   0,  31,   0,   0,   0, 129,   0,   0,   0,\n",
       "          0,   0,   0,   0,   0,   0,   0,   0,   0,   0,   0,   0,   0,\n",
       "          0,   6],\n",
       "       [  0,   0,   0,   0,   0,   0,   0,   0,   0,   0, 164,   0,   0,\n",
       "          0,   0,   0,   0,   0,   0,   0,   0,   0,   0,   0,   0,   0,\n",
       "          0,   0],\n",
       "       [  0,   0,   0,   0,   0,   0,   0,   0,   0,   0,  48, 116,   0,\n",
       "          0,   0,   0,   0,   0,   0,   0,   0,   0,   0,   0,   0,   0,\n",
       "          0,   0],\n",
       "       [  0,   0,   0,   0,   0,  11,   0,   0,   0,   0,  41,   0, 114,\n",
       "          0,   0,   0,   0,   0,   0,   0,   0,   0,   0,   0,   0,   0,\n",
       "          0,   0],\n",
       "       [  0,   0,   0,   0,   0,   0,   0,   0,   0,   0,   0,   0,   0,\n",
       "        234,   0,   0,   0,   0,   0,   0,   0,   0,   0,   0,   0,   0,\n",
       "          0,   0],\n",
       "       [  0,   0,   0,   0,   0,   0,   0,   0,   0,   0,   0,   0,   0,\n",
       "          0, 164,   0,   0,   0,   0,   0,   0,   0,   0,   0,   0,   0,\n",
       "          0,   0],\n",
       "       [  0,   0,   0,   0,   0,   0,   0,   0,   0,   0,   0,   0,   0,\n",
       "          0,   0, 246,   0,   0,   0,   0,   0,   0,   0,   0,   0,   0,\n",
       "          0,   0],\n",
       "       [  0,   0,   0,   0,   0,   0,   0,   0,   0,   0, 105,  31,   0,\n",
       "          0,   0,  32,  78,   0,   0,   0,   0,   0,   0,   0,   0,   0,\n",
       "          0,   0],\n",
       "       [  0,   0,   0,   0,   0,   0,   0,   0,   0,   0,   0,   0,   0,\n",
       "          0,   0,   0,   0, 164,   0,   0,   0,   0,   0,   0,   0,   0,\n",
       "          0,   0],\n",
       "       [  0,   0,   0,   0,   0,   0,   0,   0,   0,   0,   0,   0,   0,\n",
       "          0,   0,   0,   0,   0, 164,   0,   0,   0,   0,   0,   0,   0,\n",
       "          0,   0],\n",
       "       [  0,   0,   0,   0,   0,   0,   0,   0,   0,   0,   0,   0,   0,\n",
       "          0,   0,   0,   0,   0,   0, 164,   0,   0,   0,   0,   0,   0,\n",
       "          0,   0],\n",
       "       [  0,   0,  54,   0,   0,   0,  10,   0,   0,   0,   0,   0,   0,\n",
       "          0,   0,   0,   0,   0,   0,   0,  71,   0,   2,   0,   0,  12,\n",
       "          4,   0],\n",
       "       [  0,   0,   0,   0,   0,   0,   0,   0,   0,   0,   0,   0,   4,\n",
       "          0,   0,   0,   0,   0,   0,   0,   0, 162,   0,   0,   0,   0,\n",
       "          0,   0],\n",
       "       [  0,   0,   0,   1,   0,   0,   0,   0,   0,   0,   0,   0,   0,\n",
       "          9,   0,   0,   0,   0,   0,   0,   0,   0, 154,   0,   0,   0,\n",
       "          0,   2],\n",
       "       [  0,   0,   0,   0,   0,   0,   0,   0,   0,   0,   4,   0,   0,\n",
       "          2,   0,   0,   0,   0,   0,  86,   0,   0,   0,  54,   0,   0,\n",
       "          4,   0],\n",
       "       [  0,   0,   0,  19,   0,   0,   0,   0,   0,   0,   0,   0,   0,\n",
       "         15,   0,   0,   0,   0,   0,   0,   0,   0,   0,   0, 120,   0,\n",
       "          0,   0],\n",
       "       [  0,   0,   0,   0,   0,   0,   0,   0,   0,   0,   0,   0,   0,\n",
       "          1,   0,   0,   0,   0,   0,  32,   0,   0,   0,   0,   0,  97,\n",
       "          0,   0],\n",
       "       [  0,   0,   0,   0,   0,   0,   0,   0,   0,   0,   0,   0,   0,\n",
       "          0,   0,   0,   0,   0,   0,  36,   0,   0,   0,   0,   0,   0,\n",
       "        120,   0],\n",
       "       [  0,   0,   0,   0,   0,   0,   0,   0,   0,   0,   0,   0,   0,\n",
       "          0,   0,   0,   0,   0,   0,   0,   0,   0,   0,   0,   0,   0,\n",
       "          0, 166]])>"
      ]
     },
     "execution_count": 63,
     "metadata": {},
     "output_type": "execute_result"
    }
   ],
   "source": [
    "import tensorflow as tf\n",
    "cm = tf.math.confusion_matrix(labels=y_test_encoded, predictions=y_predicted_labels)\n"
   ]
  },
  {
   "cell_type": "code",
   "execution_count": 64,
   "id": "d9f33324-99d6-4f93-8a0c-50e87b5990f0",
   "metadata": {},
   "outputs": [
    {
     "data": {
      "text/plain": [
       "Text(69.0, 0.5, 'Truth')"
      ]
     },
     "execution_count": 64,
     "metadata": {},
     "output_type": "execute_result"
    },
    {
     "data": {
      "image/png": "[encoded data removed]",
      "text/plain": [
       "<Figure size 720x504 with 2 Axes>"
      ]
     },
     "metadata": {
      "needs_background": "light"
     },
     "output_type": "display_data"
    }
   ],
   "source": [
    "import seaborn as sn\n",
    "plt.figure(figsize = (10, 7))\n",
    "sn.heatmap(cm, annot=True, fmt='d')\n",
    "plt.xlabel(\"Predicted\")\n",
    "plt.ylabel(\"Truth\")"
   ]
  },
  {
   "cell_type": "code",
   "execution_count": 79,
   "id": "4b1d5b36",
   "metadata": {},
   "outputs": [
    {
     "name": "stdout",
     "output_type": "stream",
     "text": [
      "148/148 [==============================] - 1s 8ms/step - loss: 0.9492 - accuracy: 0.8449\n",
      "Epoch 1/10\n",
      "439/439 [==============================] - 65s 145ms/step - loss: 1.3158 - accuracy: 0.7072\n",
      "Epoch 2/10\n",
      "439/439 [==============================] - 63s 144ms/step - loss: 0.1610 - accuracy: 0.9517\n",
      "Epoch 3/10\n",
      "439/439 [==============================] - 63s 143ms/step - loss: 0.1336 - accuracy: 0.9598\n",
      "Epoch 4/10\n",
      "439/439 [==============================] - 63s 144ms/step - loss: 0.0385 - accuracy: 0.9875\n",
      "Epoch 5/10\n",
      "439/439 [==============================] - 63s 144ms/step - loss: 0.1388 - accuracy: 0.9611\n",
      "Epoch 6/10\n",
      "439/439 [==============================] - 64s 146ms/step - loss: 0.0183 - accuracy: 0.9947\n",
      "Epoch 7/10\n",
      "439/439 [==============================] - 64s 146ms/step - loss: 0.1577 - accuracy: 0.9537\n",
      "Epoch 8/10\n",
      "439/439 [==============================] - 65s 148ms/step - loss: 0.0578 - accuracy: 0.9811\n",
      "Epoch 9/10\n",
      "439/439 [==============================] - 65s 147ms/step - loss: 0.0917 - accuracy: 0.9729\n",
      "Epoch 10/10\n",
      "439/439 [==============================] - 64s 146ms/step - loss: 0.0780 - accuracy: 0.9798\n"
     ]
    },
    {
     "data": {
      "text/plain": [
       "<keras.src.callbacks.History at 0x200ddbedc00>"
      ]
     },
     "execution_count": 79,
     "metadata": {},
     "output_type": "execute_result"
    }
   ],
   "source": [
    "from tensorflow import keras\n",
    "\n",
    "# Evaluate the model on the test set\n",
    "model.evaluate(X_test_flattened, y_test_one_hot)\n",
    "\n",
    "\n",
    "from tensorflow import keras\n",
    "\n",
    "model = keras.Sequential([\n",
    "    # keras.layers.Dense(128, input_shape=(100 * 100 * 3,), activation=\"relu\"),  # Hidden layer\n",
    "    # keras.layers.Dense(28, activation=\"softmax\")  # Output layer with softmax activation for multiclass classification\n",
    "    \n",
    "    keras.layers.Dense(256, input_shape=(100 * 100 * 3,), activation=\"relu\"),  # First hidden layer\n",
    "    keras.layers.Dense(128, activation=\"relu\"),  # Additional hidden layer\n",
    "    keras.layers.Dense(56, activation=\"relu\"),  # Additional hidden layer\n",
    "    keras.layers.Dense(28, activation=\"softmax\")  # Output layer with softmax activation for multiclass classification\n",
    "])\n",
    "\n",
    "# Compile the model\n",
    "model.compile(\n",
    "    optimizer=\"adam\",\n",
    "    loss=\"categorical_crossentropy\",\n",
    "    metrics=[\"accuracy\"]\n",
    ")\n",
    "\n",
    "# Train the model\n",
    "model.fit(X_train_flattened, y_train_one_hot, epochs=10)\n"
   ]
  },
  {
   "cell_type": "code",
   "execution_count": 80,
   "id": "339c1915-4cb7-41f8-98dd-2ea7d416b7ff",
   "metadata": {},
   "outputs": [
    {
     "ename": "MemoryError",
     "evalue": "Unable to allocate 539. MiB for an array with shape (4708, 30000) and data type float32",
     "output_type": "error",
     "traceback": [
      "\u001b[1;31m---------------------------------------------------------------------------\u001b[0m",
      "\u001b[1;31mMemoryError\u001b[0m                               Traceback (most recent call last)",
      "Input \u001b[1;32mIn [80]\u001b[0m, in \u001b[0;36m<cell line: 2>\u001b[1;34m()\u001b[0m\n\u001b[0;32m      1\u001b[0m \u001b[38;5;66;03m# Evaluate the model on the test set\u001b[39;00m\n\u001b[1;32m----> 2\u001b[0m \u001b[43mmodel\u001b[49m\u001b[38;5;241;43m.\u001b[39;49m\u001b[43mevaluate\u001b[49m\u001b[43m(\u001b[49m\u001b[43mX_test_flattened\u001b[49m\u001b[43m,\u001b[49m\u001b[43m \u001b[49m\u001b[43my_test_one_hot\u001b[49m\u001b[43m)\u001b[49m\n",
      "File \u001b[1;32m~\\AppData\\Local\\Programs\\Python\\Python310\\lib\\site-packages\\keras\\src\\utils\\traceback_utils.py:70\u001b[0m, in \u001b[0;36mfilter_traceback.<locals>.error_handler\u001b[1;34m(*args, **kwargs)\u001b[0m\n\u001b[0;32m     67\u001b[0m     filtered_tb \u001b[38;5;241m=\u001b[39m _process_traceback_frames(e\u001b[38;5;241m.\u001b[39m__traceback__)\n\u001b[0;32m     68\u001b[0m     \u001b[38;5;66;03m# To get the full stack trace, call:\u001b[39;00m\n\u001b[0;32m     69\u001b[0m     \u001b[38;5;66;03m# `tf.debugging.disable_traceback_filtering()`\u001b[39;00m\n\u001b[1;32m---> 70\u001b[0m     \u001b[38;5;28;01mraise\u001b[39;00m e\u001b[38;5;241m.\u001b[39mwith_traceback(filtered_tb) \u001b[38;5;28;01mfrom\u001b[39;00m \u001b[38;5;28mNone\u001b[39m\n\u001b[0;32m     71\u001b[0m \u001b[38;5;28;01mfinally\u001b[39;00m:\n\u001b[0;32m     72\u001b[0m     \u001b[38;5;28;01mdel\u001b[39;00m filtered_tb\n",
      "File \u001b[1;32m~\\AppData\\Local\\Programs\\Python\\Python310\\lib\\site-packages\\tensorflow\\python\\framework\\constant_op.py:91\u001b[0m, in \u001b[0;36mconvert_to_eager_tensor\u001b[1;34m(value, ctx, dtype)\u001b[0m\n\u001b[0;32m     71\u001b[0m \u001b[38;5;124;03m\"\"\"Converts the given `value` to an `EagerTensor`.\u001b[39;00m\n\u001b[0;32m     72\u001b[0m \n\u001b[0;32m     73\u001b[0m \u001b[38;5;124;03mNote that this function could return cached copies of created constants for\u001b[39;00m\n\u001b[1;32m   (...)\u001b[0m\n\u001b[0;32m     85\u001b[0m \u001b[38;5;124;03m  TypeError: if `dtype` is not compatible with the type of t.\u001b[39;00m\n\u001b[0;32m     86\u001b[0m \u001b[38;5;124;03m\"\"\"\u001b[39;00m\n\u001b[0;32m     87\u001b[0m \u001b[38;5;28;01mif\u001b[39;00m \u001b[38;5;28misinstance\u001b[39m(value, np\u001b[38;5;241m.\u001b[39mndarray):\n\u001b[0;32m     88\u001b[0m   \u001b[38;5;66;03m# Make a copy explicitly because the EagerTensor might share the underlying\u001b[39;00m\n\u001b[0;32m     89\u001b[0m   \u001b[38;5;66;03m# memory with the input array. Without this copy, users will be able to\u001b[39;00m\n\u001b[0;32m     90\u001b[0m   \u001b[38;5;66;03m# modify the EagerTensor after its creation by changing the input array.\u001b[39;00m\n\u001b[1;32m---> 91\u001b[0m   value \u001b[38;5;241m=\u001b[39m \u001b[43mvalue\u001b[49m\u001b[38;5;241;43m.\u001b[39;49m\u001b[43mcopy\u001b[49m\u001b[43m(\u001b[49m\u001b[43m)\u001b[49m\n\u001b[0;32m     92\u001b[0m \u001b[38;5;28;01mif\u001b[39;00m \u001b[38;5;28misinstance\u001b[39m(value, ops\u001b[38;5;241m.\u001b[39mEagerTensor):\n\u001b[0;32m     93\u001b[0m   \u001b[38;5;28;01mif\u001b[39;00m dtype \u001b[38;5;129;01mis\u001b[39;00m \u001b[38;5;129;01mnot\u001b[39;00m \u001b[38;5;28;01mNone\u001b[39;00m \u001b[38;5;129;01mand\u001b[39;00m value\u001b[38;5;241m.\u001b[39mdtype \u001b[38;5;241m!=\u001b[39m dtype:\n",
      "\u001b[1;31mMemoryError\u001b[0m: Unable to allocate 539. MiB for an array with shape (4708, 30000) and data type float32"
     ]
    }
   ],
   "source": [
    "# Evaluate the model on the test set\n",
    "model.evaluate(X_test_flattened, y_test_one_hot)"
   ]
  },
  {
   "cell_type": "code",
   "execution_count": 76,
   "id": "458ac1bd-9c86-4716-8547-8394a7acea31",
   "metadata": {},
   "outputs": [
    {
     "name": "stdout",
     "output_type": "stream",
     "text": [
      "148/148 [==============================] - 1s 5ms/step\n"
     ]
    },
    {
     "data": {
      "text/plain": [
       "Text(69.0, 0.5, 'Truth')"
      ]
     },
     "execution_count": 76,
     "metadata": {},
     "output_type": "execute_result"
    },
    {
     "data": {
      "image/png": "[encoded data removed]",
      "text/plain": [
       "<Figure size 720x504 with 2 Axes>"
      ]
     },
     "metadata": {
      "needs_background": "light"
     },
     "output_type": "display_data"
    }
   ],
   "source": [
    "y_predicted = model.predict(X_test_flattened)\n",
    "y_predicted_labels = [np.argmax(val) for val in y_predicted]\n",
    "cm = tf.math.confusion_matrix(labels=y_test_encoded, predictions=y_predicted_labels)\n",
    "plt.figure(figsize = (10, 7))\n",
    "sn.heatmap(cm, annot=True, fmt='d')\n",
    "plt.xlabel(\"Predicted\")\n",
    "plt.ylabel(\"Truth\")"
   ]
  },
  {
   "cell_type": "code",
   "execution_count": 10,
   "id": "e22b7d10",
   "metadata": {},
   "outputs": [],
   "source": [
    "import matplotlib.pyplot as plt"
   ]
  },
  {
   "cell_type": "code",
   "execution_count": null,
   "id": "560390fe-ccd7-476d-b2e4-932d1e08d5b5",
   "metadata": {},
   "outputs": [],
   "source": []
  }
 ],
 "metadata": {
  "kernelspec": {
   "display_name": "Python 3 (ipykernel)",
   "language": "python",
   "name": "python3"
  },
  "language_info": {
   "codemirror_mode": {
    "name": "ipython",
    "version": 3
   },
   "file_extension": ".py",
   "mimetype": "text/x-python",
   "name": "python",
   "nbconvert_exporter": "python",
   "pygments_lexer": "ipython3",
   "version": "3.10.4"
  }
 },
 "nbformat": 4,
 "nbformat_minor": 5
}
